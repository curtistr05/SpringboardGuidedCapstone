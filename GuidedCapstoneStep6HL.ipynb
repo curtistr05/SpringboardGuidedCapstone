{
 "cells": [
  {
   "cell_type": "markdown",
   "metadata": {
    "colab_type": "text",
    "id": "cf5CmXQCZyF1"
   },
   "source": [
    "# Guided Capstone Step 6. Documentation"
   ]
  },
  {
   "cell_type": "markdown",
   "metadata": {
    "colab_type": "text",
    "id": "JbZXsVevfr9M"
   },
   "source": [
    "**The Data Science Method**  \n",
    "\n",
    "\n",
    "1.   Problem Identification \n",
    "\n",
    "2.   Data Wrangling \n",
    "  \n",
    "3.   Exploratory Data Analysis \n",
    " \n",
    "4.   Pre-processing and Training Data Development\n",
    "\n",
    "5.  Modeling\n",
    "\n",
    "6.   **Documentation**\n",
    "  * Review the Results\n",
    "  * Finalize Code \n",
    "  * Finalize Documentation\n",
    "  * Create a Project Report \n",
    "  * Create a Slide Deck for the Executive Audience"
   ]
  },
  {
   "cell_type": "markdown",
   "metadata": {
    "colab_type": "text",
    "id": "D-oGciwnGUYk"
   },
   "source": [
    "In this guided capstone we are going to revisit many of the actions we took in the previous guided capstone steps. This gives you the opportunity to practice the code you wrote to solve the questions in step 4 and 5. "
   ]
  },
  {
   "cell_type": "markdown",
   "metadata": {
    "colab_type": "text",
    "id": "K8xfkAqqZyF2"
   },
   "source": [
    "**<font color='teal'> Start by loading the necessary packages and printing out our current working directory just to confirm we are in the correct project directory. </font>**"
   ]
  },
  {
   "cell_type": "code",
   "execution_count": 96,
   "metadata": {
    "colab": {},
    "colab_type": "code",
    "id": "ry6WPL5eZyF3"
   },
   "outputs": [],
   "source": [
    "import os\n",
    "import pandas as pd\n",
    "import datetime\n",
    "import seaborn as sns\n",
    "import matplotlib.pyplot as plt\n",
    "import numpy as np\n",
    "%matplotlib inline\n",
    "from sklearn import linear_model\n",
    "from sklearn.metrics import explained_variance_score,mean_absolute_error"
   ]
  },
  {
   "cell_type": "code",
   "execution_count": 97,
   "metadata": {},
   "outputs": [
    {
     "name": "stdout",
     "output_type": "stream",
     "text": [
      "/c/Users/Curtis/Documents/SpringboardGuidedCapstone\n"
     ]
    }
   ],
   "source": [
    "!pwd"
   ]
  },
  {
   "cell_type": "markdown",
   "metadata": {
    "colab_type": "text",
    "id": "0HTP9cF2GUYs"
   },
   "source": [
    "## Fit Models with Training Dataset"
   ]
  },
  {
   "cell_type": "markdown",
   "metadata": {
    "colab_type": "text",
    "id": "A2FmSbtCGUYt"
   },
   "source": [
    "**<font color='teal'> Using sklearn fit the model you chose in Guided Capstone 5 on your training dataset. This includes: creating dummy features for states if you need them, scaling the data,and creating train and test splits before fitting the chosen model.Also, remember to generate a model performance score(MAE, or explained variance) based on the testing hold-out data set.</font>**"
   ]
  },
  {
   "cell_type": "markdown",
   "metadata": {
    "colab_type": "text",
    "id": "ReRSy1yFGUYu"
   },
   "source": [
    "#### Best Model "
   ]
  },
  {
   "cell_type": "code",
   "execution_count": 98,
   "metadata": {},
   "outputs": [
    {
     "data": {
      "text/html": [
       "<div>\n",
       "<style scoped>\n",
       "    .dataframe tbody tr th:only-of-type {\n",
       "        vertical-align: middle;\n",
       "    }\n",
       "\n",
       "    .dataframe tbody tr th {\n",
       "        vertical-align: top;\n",
       "    }\n",
       "\n",
       "    .dataframe thead th {\n",
       "        text-align: right;\n",
       "    }\n",
       "</style>\n",
       "<table border=\"1\" class=\"dataframe\">\n",
       "  <thead>\n",
       "    <tr style=\"text-align: right;\">\n",
       "      <th></th>\n",
       "      <th>Name</th>\n",
       "      <th>summit_elev</th>\n",
       "      <th>vertical_drop</th>\n",
       "      <th>trams</th>\n",
       "      <th>fastEight</th>\n",
       "      <th>fastSixes</th>\n",
       "      <th>fastQuads</th>\n",
       "      <th>quad</th>\n",
       "      <th>triple</th>\n",
       "      <th>double</th>\n",
       "      <th>...</th>\n",
       "      <th>SkiableTerrain_ac</th>\n",
       "      <th>Snow Making_ac</th>\n",
       "      <th>daysOpenLastYear</th>\n",
       "      <th>yearsOpen</th>\n",
       "      <th>averageSnowfall</th>\n",
       "      <th>AdultWeekday</th>\n",
       "      <th>AdultWeekend</th>\n",
       "      <th>projectedDaysOpen</th>\n",
       "      <th>NightSkiing_ac</th>\n",
       "      <th>cluster</th>\n",
       "    </tr>\n",
       "  </thead>\n",
       "  <tbody>\n",
       "    <tr>\n",
       "      <th>0</th>\n",
       "      <td>Hilltop Ski Area</td>\n",
       "      <td>2090</td>\n",
       "      <td>294</td>\n",
       "      <td>0</td>\n",
       "      <td>0</td>\n",
       "      <td>0</td>\n",
       "      <td>0</td>\n",
       "      <td>0</td>\n",
       "      <td>1</td>\n",
       "      <td>0</td>\n",
       "      <td>...</td>\n",
       "      <td>30</td>\n",
       "      <td>30</td>\n",
       "      <td>150</td>\n",
       "      <td>36</td>\n",
       "      <td>69</td>\n",
       "      <td>30</td>\n",
       "      <td>34</td>\n",
       "      <td>152</td>\n",
       "      <td>30</td>\n",
       "      <td>2</td>\n",
       "    </tr>\n",
       "    <tr>\n",
       "      <th>1</th>\n",
       "      <td>Sunrise Park Resort</td>\n",
       "      <td>11100</td>\n",
       "      <td>1800</td>\n",
       "      <td>0</td>\n",
       "      <td>0</td>\n",
       "      <td>0</td>\n",
       "      <td>1</td>\n",
       "      <td>2</td>\n",
       "      <td>3</td>\n",
       "      <td>1</td>\n",
       "      <td>...</td>\n",
       "      <td>800</td>\n",
       "      <td>80</td>\n",
       "      <td>115</td>\n",
       "      <td>49</td>\n",
       "      <td>250</td>\n",
       "      <td>74</td>\n",
       "      <td>78</td>\n",
       "      <td>104</td>\n",
       "      <td>80</td>\n",
       "      <td>1</td>\n",
       "    </tr>\n",
       "    <tr>\n",
       "      <th>2</th>\n",
       "      <td>Yosemite Ski &amp; Snowboard Area</td>\n",
       "      <td>7800</td>\n",
       "      <td>600</td>\n",
       "      <td>0</td>\n",
       "      <td>0</td>\n",
       "      <td>0</td>\n",
       "      <td>0</td>\n",
       "      <td>0</td>\n",
       "      <td>1</td>\n",
       "      <td>3</td>\n",
       "      <td>...</td>\n",
       "      <td>88</td>\n",
       "      <td>174</td>\n",
       "      <td>110</td>\n",
       "      <td>84</td>\n",
       "      <td>300</td>\n",
       "      <td>47</td>\n",
       "      <td>47</td>\n",
       "      <td>107</td>\n",
       "      <td>0</td>\n",
       "      <td>1</td>\n",
       "    </tr>\n",
       "    <tr>\n",
       "      <th>3</th>\n",
       "      <td>Boreal Mountain Resort</td>\n",
       "      <td>7700</td>\n",
       "      <td>500</td>\n",
       "      <td>0</td>\n",
       "      <td>0</td>\n",
       "      <td>0</td>\n",
       "      <td>1</td>\n",
       "      <td>1</td>\n",
       "      <td>3</td>\n",
       "      <td>1</td>\n",
       "      <td>...</td>\n",
       "      <td>380</td>\n",
       "      <td>200</td>\n",
       "      <td>150</td>\n",
       "      <td>54</td>\n",
       "      <td>400</td>\n",
       "      <td>49</td>\n",
       "      <td>64</td>\n",
       "      <td>150</td>\n",
       "      <td>200</td>\n",
       "      <td>1</td>\n",
       "    </tr>\n",
       "    <tr>\n",
       "      <th>4</th>\n",
       "      <td>Dodge Ridge</td>\n",
       "      <td>8200</td>\n",
       "      <td>1600</td>\n",
       "      <td>0</td>\n",
       "      <td>0</td>\n",
       "      <td>0</td>\n",
       "      <td>0</td>\n",
       "      <td>1</td>\n",
       "      <td>2</td>\n",
       "      <td>5</td>\n",
       "      <td>...</td>\n",
       "      <td>862</td>\n",
       "      <td>174</td>\n",
       "      <td>115</td>\n",
       "      <td>69</td>\n",
       "      <td>350</td>\n",
       "      <td>78</td>\n",
       "      <td>78</td>\n",
       "      <td>140</td>\n",
       "      <td>0</td>\n",
       "      <td>1</td>\n",
       "    </tr>\n",
       "  </tbody>\n",
       "</table>\n",
       "<p>5 rows × 25 columns</p>\n",
       "</div>"
      ],
      "text/plain": [
       "                            Name  summit_elev  vertical_drop  trams  \\\n",
       "0               Hilltop Ski Area         2090            294      0   \n",
       "1            Sunrise Park Resort        11100           1800      0   \n",
       "2  Yosemite Ski & Snowboard Area         7800            600      0   \n",
       "3         Boreal Mountain Resort         7700            500      0   \n",
       "4                    Dodge Ridge         8200           1600      0   \n",
       "\n",
       "   fastEight  fastSixes  fastQuads  quad  triple  double  ...  \\\n",
       "0          0          0          0     0       1       0  ...   \n",
       "1          0          0          1     2       3       1  ...   \n",
       "2          0          0          0     0       1       3  ...   \n",
       "3          0          0          1     1       3       1  ...   \n",
       "4          0          0          0     1       2       5  ...   \n",
       "\n",
       "   SkiableTerrain_ac  Snow Making_ac  daysOpenLastYear  yearsOpen  \\\n",
       "0                 30              30               150         36   \n",
       "1                800              80               115         49   \n",
       "2                 88             174               110         84   \n",
       "3                380             200               150         54   \n",
       "4                862             174               115         69   \n",
       "\n",
       "   averageSnowfall  AdultWeekday  AdultWeekend  projectedDaysOpen  \\\n",
       "0               69            30            34                152   \n",
       "1              250            74            78                104   \n",
       "2              300            47            47                107   \n",
       "3              400            49            64                150   \n",
       "4              350            78            78                140   \n",
       "\n",
       "   NightSkiing_ac  cluster  \n",
       "0              30        2  \n",
       "1              80        1  \n",
       "2               0        1  \n",
       "3             200        1  \n",
       "4               0        1  \n",
       "\n",
       "[5 rows x 25 columns]"
      ]
     },
     "execution_count": 98,
     "metadata": {},
     "output_type": "execute_result"
    }
   ],
   "source": [
    "step3_output = pd.read_csv(r\"C:/Users/Curtis/Documents/SpringboardGuidedCapstone/data/step3_output.csv\")\n",
    "step3_outputdf = step3_output.drop(step3_output.columns[1], axis=1)\n",
    "step3_outputdf.head()"
   ]
  },
  {
   "cell_type": "code",
   "execution_count": 99,
   "metadata": {},
   "outputs": [],
   "source": [
    "from sklearn.model_selection import train_test_split\n",
    "from sklearn import linear_model\n",
    "from sklearn.metrics import explained_variance_score,mean_absolute_error"
   ]
  },
  {
   "cell_type": "code",
   "execution_count": 100,
   "metadata": {},
   "outputs": [],
   "source": [
    "# first we import the preprocessing package from the sklearn library\n",
    "from sklearn.preprocessing import StandardScaler\n",
    "\n",
    "# Declare an explanatory variable, called X,and assign it the result of dropping 'Name' and 'AdultWeekend' from the df\n",
    "X = step3_outputdf.drop(columns=['Name','AdultWeekend', 'summit_elev'], axis=0)\n",
    "\n",
    "# Declare a response variable, called y, and assign it the AdultWeekend column of the df \n",
    "y = step3_outputdf['AdultWeekend']\n",
    "# Here we use the StandardScaler() method of the preprocessing package, and then call the fit() method with parameter X \n",
    "scaler = StandardScaler().fit(X)\n",
    "\n",
    "# Declare a variable called X_scaled, and assign it the result of calling the transform() method with parameter X \n",
    "X_scaled=scaler.transform(X) "
   ]
  },
  {
   "cell_type": "code",
   "execution_count": 101,
   "metadata": {},
   "outputs": [],
   "source": [
    "# Get the 1-dimensional flattened array of our response variable y by calling the ravel() function on y\n",
    "y = y.ravel()\n",
    "\n",
    "# Call the train_test_split() function with the first two parameters set to X_scaled and y \n",
    "# Declare four variables, X_train, X_test, y_train and y_test separated by commas \n",
    "X_train, X_test, y_train, y_test = train_test_split(X_scaled, y, test_size=0.25, random_state=1)"
   ]
  },
  {
   "cell_type": "code",
   "execution_count": 102,
   "metadata": {},
   "outputs": [],
   "source": [
    "#all first model set\n",
    "from sklearn import linear_model\n",
    "from sklearn.metrics import explained_variance_score,mean_absolute_error\n",
    "lm = linear_model.LinearRegression()\n",
    "model = lm.fit(X_train,y_train)"
   ]
  },
  {
   "cell_type": "code",
   "execution_count": 103,
   "metadata": {
    "colab": {},
    "colab_type": "code",
    "id": "YRhPGbqPGUYv"
   },
   "outputs": [
    {
     "name": "stdout",
     "output_type": "stream",
     "text": [
      "0.5148827252792982\n"
     ]
    },
    {
     "data": {
      "text/plain": [
       "7.61539439112775"
      ]
     },
     "execution_count": 103,
     "metadata": {},
     "output_type": "execute_result"
    }
   ],
   "source": [
    "# Make a variable called y_pred and assign it the result of calling predict() on our model variable with parameter X_test\n",
    "y_pred = model.predict(X_test)\n",
    "\n",
    "print(explained_variance_score(y_test, y_pred))\n",
    "\n",
    "mean_absolute_error(y_test, y_pred)"
   ]
  },
  {
   "cell_type": "markdown",
   "metadata": {
    "colab_type": "text",
    "id": "GGizyeLZGUYz"
   },
   "source": [
    "## Review the results "
   ]
  },
  {
   "cell_type": "markdown",
   "metadata": {
    "colab_type": "text",
    "id": "4Lhu-qisGUY0"
   },
   "source": [
    "**<font color='teal'> Now, let's predict the Big Mountain Weekend price with our model in order to provide a recommendation to our managers on how to price the `AdultWeekend` lift ticket. First we need to find the row for Big Mountain resort in our data using string contains or string matching.</font>**"
   ]
  },
  {
   "cell_type": "code",
   "execution_count": 104,
   "metadata": {},
   "outputs": [],
   "source": [
    "# Write your dataframe to csv \n",
    "step3_outputdf.to_csv('data/step3_outputdf.csv', index=False)"
   ]
  },
  {
   "cell_type": "code",
   "execution_count": 105,
   "metadata": {},
   "outputs": [
    {
     "name": "stdout",
     "output_type": "stream",
     "text": [
      "                                  Name  summit_elev  vertical_drop  trams  \\\n",
      "0                     Hilltop Ski Area         2090            294      0   \n",
      "1                  Sunrise Park Resort        11100           1800      0   \n",
      "2        Yosemite Ski & Snowboard Area         7800            600      0   \n",
      "3               Boreal Mountain Resort         7700            500      0   \n",
      "4                          Dodge Ridge         8200           1600      0   \n",
      "..                                 ...          ...            ...    ...   \n",
      "171                      Hogadon Basin         8000            640      0   \n",
      "172          Sleeping Giant Ski Resort         7428            810      0   \n",
      "173                   Snow King Resort         7808           1571      0   \n",
      "174  Snowy Range Ski & Recreation Area         9663            990      0   \n",
      "175                White Pine Ski Area         9500           1100      0   \n",
      "\n",
      "     fastEight  fastSixes  fastQuads  quad  triple  double  ...  \\\n",
      "0            0          0          0     0       1       0  ...   \n",
      "1            0          0          1     2       3       1  ...   \n",
      "2            0          0          0     0       1       3  ...   \n",
      "3            0          0          1     1       3       1  ...   \n",
      "4            0          0          0     1       2       5  ...   \n",
      "..         ...        ...        ...   ...     ...     ...  ...   \n",
      "171          0          0          0     0       0       1  ...   \n",
      "172          0          0          0     0       1       1  ...   \n",
      "173          0          0          0     1       1       1  ...   \n",
      "174          0          0          0     0       1       3  ...   \n",
      "175          0          0          0     0       2       0  ...   \n",
      "\n",
      "     SkiableTerrain_ac  Snow Making_ac  daysOpenLastYear  yearsOpen  \\\n",
      "0                   30              30               150         36   \n",
      "1                  800              80               115         49   \n",
      "2                   88             174               110         84   \n",
      "3                  380             200               150         54   \n",
      "4                  862             174               115         69   \n",
      "..                 ...             ...               ...        ...   \n",
      "171                 92              32               121         61   \n",
      "172                184              18                61         81   \n",
      "173                400             250               121         80   \n",
      "174                 75              30               131         59   \n",
      "175                370             174               115         81   \n",
      "\n",
      "     averageSnowfall  AdultWeekday  AdultWeekend  projectedDaysOpen  \\\n",
      "0                 69            30            34                152   \n",
      "1                250            74            78                104   \n",
      "2                300            47            47                107   \n",
      "3                400            49            64                150   \n",
      "4                350            78            78                140   \n",
      "..               ...           ...           ...                ...   \n",
      "171               80            48            48                 95   \n",
      "172              310            42            42                 77   \n",
      "173              300            59            59                123   \n",
      "174              250            49            49                120   \n",
      "175              150            57            49                120   \n",
      "\n",
      "     NightSkiing_ac  cluster  \n",
      "0                30        2  \n",
      "1                80        1  \n",
      "2                 0        1  \n",
      "3               200        1  \n",
      "4                 0        1  \n",
      "..              ...      ...  \n",
      "171               0        1  \n",
      "172               0        1  \n",
      "173             110        1  \n",
      "174               0        1  \n",
      "175               0        1  \n",
      "\n",
      "[176 rows x 25 columns]\n"
     ]
    }
   ],
   "source": [
    "print(step3_outputdf)"
   ]
  },
  {
   "cell_type": "code",
   "execution_count": 106,
   "metadata": {
    "colab": {},
    "colab_type": "code",
    "id": "YXnx_IuEGUY1"
   },
   "outputs": [],
   "source": [
    "#step3_outputdf.rename(index={'Whitefish Mountain Resort': \"Big Mountain\"}) \n",
    "#step3_outputdf[step3_outputdf['Name'].str.contains('Whitefish Mountain Resort')]"
   ]
  },
  {
   "cell_type": "markdown",
   "metadata": {
    "colab_type": "text",
    "id": "83-jO9hPGUY4"
   },
   "source": [
    "**<font color='teal'> Prepare the Big Mountain resort data row as you did in the model fitting stage.</font>**"
   ]
  },
  {
   "cell_type": "code",
   "execution_count": 112,
   "metadata": {
    "colab": {},
    "colab_type": "code",
    "id": "oWH_q9YOGUY5"
   },
   "outputs": [],
   "source": [
    "# first we import the preprocessing package from the sklearn library\n",
    "from sklearn.preprocessing import StandardScaler\n",
    "\n",
    "# Declare an explanatory variable, called X,and assign it the result of dropping 'Name' and 'AdultWeekend' from the df\n",
    "X = step3_outputdf.drop(columns=['Name','AdultWeekend', 'summit_elev'], axis=0)\n",
    "\n",
    "# Declare a response variable, called y, and assign it the AdultWeekend column of the df \n",
    "y= step3_outputdf['AdultWeekend']\n",
    "# Here we use the StandardScaler() method of the preprocessing package, and then call the fit() method with parameter X \n",
    "scaler = StandardScaler().fit(X)\n",
    "\n",
    "# Declare a variable called X_scaled, and assign it the result of calling the transform() method with parameter X \n",
    "X_scaled=scaler.transform(X) "
   ]
  },
  {
   "cell_type": "markdown",
   "metadata": {
    "colab_type": "text",
    "id": "2BCFqZYBGUY9"
   },
   "source": [
    "**<font color='teal'> Predict the Big Mountain resort `Adult Weekend` price and print it out.</font>** This is our expected price to present to management. Based on our model given the characteristics of the resort in comparison to other ski resorts and their unique characteristics."
   ]
  },
  {
   "cell_type": "code",
   "execution_count": 115,
   "metadata": {
    "colab": {},
    "colab_type": "code",
    "id": "XebWxxTMGUY-"
   },
   "outputs": [
    {
     "name": "stdout",
     "output_type": "stream",
     "text": [
      "[39.89451944 81.38320984 50.8246456  62.34584839 78.91023863 68.49263679\n",
      " 62.31249606 54.96132268 86.22416667 72.87689849 73.82248909 79.1325713\n",
      " 48.02503081 66.34372979 78.73281901 64.57130201 55.79369504 78.81540474\n",
      " 67.00389595 38.32165751 57.82014452 52.40372512 63.09209487 42.50798367\n",
      " 55.34305511 50.61405447 37.64166353 54.18434927 56.79089837 37.07884292\n",
      " 51.75166087 39.92376753 48.01110479 50.70295614 60.01199283 40.9581526\n",
      " 49.25559184 49.38420446 44.91569354 38.24414572 32.81567175 37.2908789\n",
      " 59.72163633 74.90937182 60.68086446 33.25666906 32.0793712  52.87293543\n",
      " 50.54897378 41.33509969 50.91228195 46.53804906 54.84525961 57.17018995\n",
      " 48.68461501 30.34997999 47.38608193 54.64219328 53.2970885  34.91655155\n",
      " 45.58535359 40.87436427 53.86545357 51.81578924 42.65742964 45.35714781\n",
      " 37.48903627 54.92371467 46.10280595 50.67227093 64.55758565 54.55815243\n",
      " 45.27272188 59.90906121 48.78236579 54.26530251 50.0242213  72.83386853\n",
      " 85.18951032 46.78258881 63.84744989 56.23786799 83.67407147 46.25675453\n",
      " 90.21335977 61.84008426 89.82672749 39.33526242 83.33323451 52.9745681\n",
      " 83.72292706 28.48905139 56.28888528 83.1734138  57.45087037 76.33342736\n",
      " 76.51434081 57.23521098 54.04723166 61.25179272 36.86404716 67.28443549\n",
      " 57.72367759 32.94534266 28.82150696 45.88918791 47.72217566 63.77377706\n",
      " 47.84713416 42.14394717 52.68406123 51.89529782 54.3381761  53.33260757\n",
      " 52.32076138 35.42009919 62.22303912 65.05554951 58.98674618 47.75925797\n",
      " 49.60744282 51.33752951 51.64114331 39.56720935 46.34810827 53.56970481\n",
      " 56.24081791 59.29653361 67.99205944 71.08769413 58.41559264 35.15880366\n",
      " 62.30049967 41.42549514 67.81326494 57.97923368 48.50316457 56.05809306\n",
      " 51.32137595 51.21889086 52.52147785 79.84043665 50.86982984 81.77654655\n",
      " 88.2813026  86.55442232 68.97824868 77.60067855 89.98788329 90.96136716\n",
      " 45.60103846 47.76319159 63.54187281 60.5717405  52.46155972 50.23725003\n",
      " 71.63029554 66.45237789 77.17448851 74.10968676 70.88955041 39.35878779\n",
      " 56.51031157 38.33344766 43.0153551  57.34132566 59.45526384 43.17459464\n",
      " 62.49690864 37.99067317 54.71879569 55.94461175 47.64868618 63.7583357\n",
      " 58.18273708 54.53449087]\n"
     ]
    }
   ],
   "source": [
    "BM_pred = model.predict(X_scaled)\n",
    "print(BM_pred)\n",
    "#print (\"The expected Big Mountain Resort adult weekend price is $%s \" % ' '.join(map(str, BM_pred)))"
   ]
  },
  {
   "cell_type": "markdown",
   "metadata": {
    "colab_type": "text",
    "id": "_5BvguMLGUZB"
   },
   "source": [
    "**<font color='teal'> Print the Big Mountain resort actual `Adult Weekend` price.</font>**"
   ]
  },
  {
   "cell_type": "code",
   "execution_count": 117,
   "metadata": {
    "colab": {},
    "colab_type": "code",
    "id": "WyxTHtL2GUZC"
   },
   "outputs": [
    {
     "name": "stdout",
     "output_type": "stream",
     "text": [
      "The actual Big Mountain Resort adult weekend price is $ \n"
     ]
    }
   ],
   "source": [
    "ac=step3_outputdf[step3_outputdf['Name'].str.contains(\"Whitefish  Mountain Resort\")]\n",
    "print (\"The actual Big Mountain Resort adult weekend price is $%s \" % ' '.join(map(str, ac.AdultWeekend)))"
   ]
  },
  {
   "cell_type": "markdown",
   "metadata": {
    "colab_type": "text",
    "id": "O0Yli8MXGUZH"
   },
   "source": [
    "**<font color='teal'> As part of reviewing the results it is an important step to generate figures to visualize the data story. We can use the clusters we added to our data frame to create scatter plots for visualizing the Adult Weekend values compared to other characteristics. Run the example below to get you started and build two or three more figures to include in your data story telling.</font>**"
   ]
  },
  {
   "cell_type": "code",
   "execution_count": 36,
   "metadata": {
    "colab": {},
    "colab_type": "code",
    "id": "xWtr873fGUZI"
   },
   "outputs": [
    {
     "data": {
      "image/png": "[encoded data removed]",
      "text/plain": [
       "<Figure size 432x288 with 1 Axes>"
      ]
     },
     "metadata": {
      "needs_background": "light"
     },
     "output_type": "display_data"
    }
   ],
   "source": [
    "plt.scatter(step3_output['summit_elev'], step3_output['vertical_drop'], c=step3_output['cluster'], s=50, cmap='viridis', label ='clusters')\n",
    "plt.scatter(ac['summit_elev'], ac['vertical_drop'], c='black', s=100)\n",
    "plt.xlabel('summit_elev')\n",
    "plt.ylabel('vertical_drop')\n",
    "plt.title('summit_elev by vertical_drop by cluster')\n",
    "plt.savefig('figures/fig1.png',bbox_inches='tight')"
   ]
  },
  {
   "cell_type": "code",
   "execution_count": 37,
   "metadata": {
    "colab": {},
    "colab_type": "code",
    "id": "530JtuJxGUZL"
   },
   "outputs": [
    {
     "data": {
      "image/png": "[encoded data removed]",
      "text/plain": [
       "<Figure size 432x288 with 1 Axes>"
      ]
     },
     "metadata": {
      "needs_background": "light"
     },
     "output_type": "display_data"
    }
   ],
   "source": [
    "\n",
    "#\"#440154FF\" \"#21908CFF\" \"#FDE725FF\"\n",
    "sns.regplot(x=\"AdultWeekend\", y=\"SkiableTerrain_ac\", data=step3_outputdf[(step3_outputdf['SkiableTerrain_ac']<25000)], color =\"#440154FF\",scatter_kws={\"s\": 25})\n",
    "plt.scatter(x=\"AdultWeekend\", y=\"SkiableTerrain_ac\", data=ac, c='white',s=200,edgecolors='black')\n",
    "sns.despine()\n",
    "plt.xlabel('Lift Ticket Price ($)')\n",
    "plt.ylabel('Skiable Area (acres)')\n",
    "plt.savefig('figures/fig2.png',bbox_inches='tight')"
   ]
  },
  {
   "cell_type": "code",
   "execution_count": 38,
   "metadata": {
    "colab": {},
    "colab_type": "code",
    "id": "kGvf4kTwGUZR"
   },
   "outputs": [
    {
     "data": {
      "image/png": "[encoded data removed]",
      "text/plain": [
       "<Figure size 432x288 with 1 Axes>"
      ]
     },
     "metadata": {
      "needs_background": "light"
     },
     "output_type": "display_data"
    }
   ],
   "source": [
    "sns.regplot(x=\"AdultWeekend\", y=\"daysOpenLastYear\", data=step3_outputdf,color =\"#21908CFF\",scatter_kws={\"s\": 25})\n",
    "sns.despine()\n",
    "plt.scatter(x=\"AdultWeekend\", y=\"daysOpenLastYear\", data=ac, c='white',s=200,edgecolors='black')\n",
    "plt.xlabel('Lift Ticket Price ($)')\n",
    "plt.ylabel('Days Open Last Year')\n",
    "plt.savefig('figures/fig3.png',bbox_inches='tight')"
   ]
  },
  {
   "cell_type": "code",
   "execution_count": 40,
   "metadata": {
    "colab": {},
    "colab_type": "code",
    "id": "OYZB84hYGUZU"
   },
   "outputs": [
    {
     "data": {
      "image/png": "[encoded data removed]",
      "text/plain": [
       "<Figure size 432x432 with 3 Axes>"
      ]
     },
     "metadata": {},
     "output_type": "display_data"
    }
   ],
   "source": [
    "sns.set(style=\"ticks\")\n",
    "sns.jointplot(x=step3_outputdf['AdultWeekend'], y=step3_outputdf['daysOpenLastYear'], kind=\"hex\", color=\"#FDE725FF\")\n",
    "sns.despine()\n",
    "plt.xlabel('Lift Ticket Price ($)')\n",
    "plt.ylabel('Days Open Last Year')\n",
    "plt.savefig('figures/fig4.png',bbox_inches='tight')"
   ]
  },
  {
   "cell_type": "markdown",
   "metadata": {
    "colab_type": "text",
    "id": "giLKE2WMGUZh"
   },
   "source": [
    "## Finalize Code"
   ]
  },
  {
   "cell_type": "markdown",
   "metadata": {
    "colab_type": "text",
    "id": "pps_ASHoGUZi"
   },
   "source": [
    " Making sure our code is well organized and easy to follow is an important step. This is the time where you need to review the notebooks and Python scripts you've created and clean them up so they are easy to follow and succinct in nature. Addtionally, we will also save our final model as a callable object using Pickle for future use in a data pipeline. Pickle is a module that serializes (and de-serializes) Python objects so that they can become executable objects like functions. It's used extensively in production environments where machine learning models are deployed on an industrial scale!**<font color='teal'> Run the example code below to save out your callable model. Notice that we save it in the models folder we created in our previous guided capstone step.</font>** "
   ]
  },
  {
   "cell_type": "code",
   "execution_count": 41,
   "metadata": {
    "colab": {},
    "colab_type": "code",
    "id": "X_h0tkt_GUZj"
   },
   "outputs": [
    {
     "data": {
      "text/plain": [
       "['models/regression_model_adultweekend.joblib']"
      ]
     },
     "execution_count": 41,
     "metadata": {},
     "output_type": "execute_result"
    }
   ],
   "source": [
    "import pickle\n",
    "s = pickle.dumps(model)\n",
    "from joblib import dump, load\n",
    "dump(model, 'models/regression_model_adultweekend.joblib') "
   ]
  },
  {
   "cell_type": "markdown",
   "metadata": {
    "colab_type": "text",
    "id": "MTVrVlerGUZn"
   },
   "source": [
    "## Finalize Documentation"
   ]
  },
  {
   "cell_type": "markdown",
   "metadata": {
    "colab_type": "text",
    "id": "thEMyu-DGUZo"
   },
   "source": [
    "For model documentation, we want to save the model performance metrics as well as the features included in the final model. You could also save the model perfomance metrics and coefficients fo the other models you tried in case you want to refer to them later. **<font color='teal'> Create a dataframe containing the coefficients and the model performance metrics and save it out as a csv file, then upload it to your github repository.</font>** "
   ]
  },
  {
   "cell_type": "code",
   "execution_count": 42,
   "metadata": {
    "colab": {},
    "colab_type": "code",
    "id": "278tnHLlGUZp"
   },
   "outputs": [],
   "source": [
    "coeff_df = pd.DataFrame(abs(lm.coef_), X.columns, columns=['Coefficient'])  \n",
    "coeff_df['MAE'] = mean_absolute_error(y_test, y_pred)\n",
    "coeff_df['ExpVar'] = explained_variance_score(y_test, y_pred)\n",
    "coeff_df.to_csv('models/model_metrics.csv',index=False)"
   ]
  },
  {
   "cell_type": "code",
   "execution_count": 0,
   "metadata": {
    "colab": {},
    "colab_type": "code",
    "id": "4CEOoBLFGUZr"
   },
   "outputs": [],
   "source": []
  }
 ],
 "metadata": {
  "colab": {
   "collapsed_sections": [
    "RtEspslPZyGY",
    "s0DokMkAZyGc",
    "2iuitnKcZyHS",
    "iAWQxougZyHW",
    "ThMTimlBZyHZ",
    "QwZ-LkjXZyHt",
    "srtXEA3N4-Y9",
    "ChVreJupZyIA",
    "zDgSSsq1ZyID",
    "I3GYKWfi5Llg",
    "pmMvrhbI-viE",
    "ZXDPkW3UZyIX",
    "Dnc_vHQLZyId",
    "daJxuJ-dZyIg",
    "mAQ-oHiPZyIn",
    "hnGOsp3mZyIp"
   ],
   "name": "GuidedCapstoneStep6.ipynb",
   "provenance": [],
   "toc_visible": true
  },
  "kernelspec": {
   "display_name": "Python 3",
   "language": "python",
   "name": "python3"
  },
  "language_info": {
   "codemirror_mode": {
    "name": "ipython",
    "version": 3
   },
   "file_extension": ".py",
   "mimetype": "text/x-python",
   "name": "python",
   "nbconvert_exporter": "python",
   "pygments_lexer": "ipython3",
   "version": "3.7.6"
  },
  "toc": {
   "base_numbering": "0",
   "nav_menu": {},
   "number_sections": true,
   "sideBar": true,
   "skip_h1_title": false,
   "title_cell": "Table of Contents",
   "title_sidebar": "Contents",
   "toc_cell": true,
   "toc_position": {
    "height": "calc(100% - 180px)",
    "left": "10px",
    "top": "150px",
    "width": "288px"
   },
   "toc_section_display": true,
   "toc_window_display": true
  }
 },
 "nbformat": 4,
 "nbformat_minor": 1
}
